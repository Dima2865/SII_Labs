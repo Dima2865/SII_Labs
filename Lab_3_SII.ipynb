{
  "nbformat": 4,
  "nbformat_minor": 0,
  "metadata": {
    "colab": {
      "provenance": [],
      "authorship_tag": "ABX9TyNuPatfp4yHBNg9nRKFSh7g",
      "include_colab_link": true
    },
    "kernelspec": {
      "name": "ir",
      "display_name": "R"
    },
    "language_info": {
      "name": "R"
    }
  },
  "cells": [
    {
      "cell_type": "markdown",
      "metadata": {
        "id": "view-in-github",
        "colab_type": "text"
      },
      "source": [
        "<a href=\"https://colab.research.google.com/github/Dima2865/SII_Labs/blob/main/Lab_3_SII.ipynb\" target=\"_parent\"><img src=\"https://colab.research.google.com/assets/colab-badge.svg\" alt=\"Open In Colab\"/></a>"
      ]
    },
    {
      "cell_type": "markdown",
      "source": [
        "Кластеризация.\n",
        "Ссылка на датасет https://drive.google.com/file/d/1gMKTq3cjpXkcPDXlDFAq8Cv3gJEucZwF/view?usp=share_link"
      ],
      "metadata": {
        "id": "_zCEnQWsGZnW"
      }
    },
    {
      "cell_type": "code",
      "source": [
        "library(ggplot2)\n",
        "library(tidyr)\n",
        "library(RColorBrewer)"
      ],
      "metadata": {
        "id": "V1hovgSzGUzh"
      },
      "execution_count": null,
      "outputs": []
    },
    {
      "cell_type": "code",
      "source": [
        "# скачиваем датасет с локального хранилища  \n",
        "system(\"gdown --id 1gMKTq3cjpXkcPDXlDFAq8Cv3gJEucZwF\")\n",
        "system(\"ls\", TRUE)\n",
        "\n",
        "dataset = read.csv(\"Cust_Segmentation.csv\")"
      ],
      "metadata": {
        "colab": {
          "base_uri": "https://localhost:8080/",
          "height": 34
        },
        "id": "Xfi5MStwGpRK",
        "outputId": "8c985327-cefc-4f47-b932-e8c350dc38a1"
      },
      "execution_count": null,
      "outputs": [
        {
          "output_type": "display_data",
          "data": {
            "text/html": [
              "<style>\n",
              ".list-inline {list-style: none; margin:0; padding: 0}\n",
              ".list-inline>li {display: inline-block}\n",
              ".list-inline>li:not(:last-child)::after {content: \"\\00b7\"; padding: 0 .5ex}\n",
              "</style>\n",
              "<ol class=list-inline><li>'Cust_Segmentation.csv'</li><li>'sample_data'</li></ol>\n"
            ],
            "text/markdown": "1. 'Cust_Segmentation.csv'\n2. 'sample_data'\n\n\n",
            "text/latex": "\\begin{enumerate*}\n\\item 'Cust\\_Segmentation.csv'\n\\item 'sample\\_data'\n\\end{enumerate*}\n",
            "text/plain": [
              "[1] \"Cust_Segmentation.csv\" \"sample_data\"          "
            ]
          },
          "metadata": {}
        }
      ]
    },
    {
      "cell_type": "code",
      "source": [
        "# смотрим на данные\n",
        "str(dataset)\n",
        "head(dataset)\n",
        "any(is.na(dataset))\n",
        "summary(dataset)"
      ],
      "metadata": {
        "colab": {
          "base_uri": "https://localhost:8080/",
          "height": 911
        },
        "id": "q9Y9_BVZHHr5",
        "outputId": "11a782f1-2994-42cd-9e6f-2237c2c7dea7"
      },
      "execution_count": null,
      "outputs": [
        {
          "output_type": "stream",
          "name": "stdout",
          "text": [
            "'data.frame':\t850 obs. of  10 variables:\n",
            " $ Customer.Id    : int  1 2 3 4 5 6 7 8 9 10 ...\n",
            " $ Age            : int  41 47 33 29 47 40 38 42 26 47 ...\n",
            " $ Edu            : int  2 1 2 2 1 1 2 3 1 3 ...\n",
            " $ Years.Employed : int  6 26 10 4 31 23 4 0 5 23 ...\n",
            " $ Income         : int  19 100 57 19 253 81 56 64 18 115 ...\n",
            " $ Card.Debt      : num  0.124 4.582 6.111 0.681 9.308 ...\n",
            " $ Other.Debt     : num  1.073 8.218 5.802 0.516 8.908 ...\n",
            " $ Defaulted      : int  0 0 1 0 0 NA 0 0 NA 0 ...\n",
            " $ Address        : chr  \"NBA001\" \"NBA021\" \"NBA013\" \"NBA009\" ...\n",
            " $ DebtIncomeRatio: num  6.3 12.8 20.9 6.3 7.2 10.9 1.6 6.6 15.5 4 ...\n"
          ]
        },
        {
          "output_type": "display_data",
          "data": {
            "text/html": [
              "<table class=\"dataframe\">\n",
              "<caption>A data.frame: 6 × 10</caption>\n",
              "<thead>\n",
              "\t<tr><th></th><th scope=col>Customer.Id</th><th scope=col>Age</th><th scope=col>Edu</th><th scope=col>Years.Employed</th><th scope=col>Income</th><th scope=col>Card.Debt</th><th scope=col>Other.Debt</th><th scope=col>Defaulted</th><th scope=col>Address</th><th scope=col>DebtIncomeRatio</th></tr>\n",
              "\t<tr><th></th><th scope=col>&lt;int&gt;</th><th scope=col>&lt;int&gt;</th><th scope=col>&lt;int&gt;</th><th scope=col>&lt;int&gt;</th><th scope=col>&lt;int&gt;</th><th scope=col>&lt;dbl&gt;</th><th scope=col>&lt;dbl&gt;</th><th scope=col>&lt;int&gt;</th><th scope=col>&lt;chr&gt;</th><th scope=col>&lt;dbl&gt;</th></tr>\n",
              "</thead>\n",
              "<tbody>\n",
              "\t<tr><th scope=row>1</th><td>1</td><td>41</td><td>2</td><td> 6</td><td> 19</td><td>0.124</td><td>1.073</td><td> 0</td><td>NBA001</td><td> 6.3</td></tr>\n",
              "\t<tr><th scope=row>2</th><td>2</td><td>47</td><td>1</td><td>26</td><td>100</td><td>4.582</td><td>8.218</td><td> 0</td><td>NBA021</td><td>12.8</td></tr>\n",
              "\t<tr><th scope=row>3</th><td>3</td><td>33</td><td>2</td><td>10</td><td> 57</td><td>6.111</td><td>5.802</td><td> 1</td><td>NBA013</td><td>20.9</td></tr>\n",
              "\t<tr><th scope=row>4</th><td>4</td><td>29</td><td>2</td><td> 4</td><td> 19</td><td>0.681</td><td>0.516</td><td> 0</td><td>NBA009</td><td> 6.3</td></tr>\n",
              "\t<tr><th scope=row>5</th><td>5</td><td>47</td><td>1</td><td>31</td><td>253</td><td>9.308</td><td>8.908</td><td> 0</td><td>NBA008</td><td> 7.2</td></tr>\n",
              "\t<tr><th scope=row>6</th><td>6</td><td>40</td><td>1</td><td>23</td><td> 81</td><td>0.998</td><td>7.831</td><td>NA</td><td>NBA016</td><td>10.9</td></tr>\n",
              "</tbody>\n",
              "</table>\n"
            ],
            "text/markdown": "\nA data.frame: 6 × 10\n\n| <!--/--> | Customer.Id &lt;int&gt; | Age &lt;int&gt; | Edu &lt;int&gt; | Years.Employed &lt;int&gt; | Income &lt;int&gt; | Card.Debt &lt;dbl&gt; | Other.Debt &lt;dbl&gt; | Defaulted &lt;int&gt; | Address &lt;chr&gt; | DebtIncomeRatio &lt;dbl&gt; |\n|---|---|---|---|---|---|---|---|---|---|---|\n| 1 | 1 | 41 | 2 |  6 |  19 | 0.124 | 1.073 |  0 | NBA001 |  6.3 |\n| 2 | 2 | 47 | 1 | 26 | 100 | 4.582 | 8.218 |  0 | NBA021 | 12.8 |\n| 3 | 3 | 33 | 2 | 10 |  57 | 6.111 | 5.802 |  1 | NBA013 | 20.9 |\n| 4 | 4 | 29 | 2 |  4 |  19 | 0.681 | 0.516 |  0 | NBA009 |  6.3 |\n| 5 | 5 | 47 | 1 | 31 | 253 | 9.308 | 8.908 |  0 | NBA008 |  7.2 |\n| 6 | 6 | 40 | 1 | 23 |  81 | 0.998 | 7.831 | NA | NBA016 | 10.9 |\n\n",
            "text/latex": "A data.frame: 6 × 10\n\\begin{tabular}{r|llllllllll}\n  & Customer.Id & Age & Edu & Years.Employed & Income & Card.Debt & Other.Debt & Defaulted & Address & DebtIncomeRatio\\\\\n  & <int> & <int> & <int> & <int> & <int> & <dbl> & <dbl> & <int> & <chr> & <dbl>\\\\\n\\hline\n\t1 & 1 & 41 & 2 &  6 &  19 & 0.124 & 1.073 &  0 & NBA001 &  6.3\\\\\n\t2 & 2 & 47 & 1 & 26 & 100 & 4.582 & 8.218 &  0 & NBA021 & 12.8\\\\\n\t3 & 3 & 33 & 2 & 10 &  57 & 6.111 & 5.802 &  1 & NBA013 & 20.9\\\\\n\t4 & 4 & 29 & 2 &  4 &  19 & 0.681 & 0.516 &  0 & NBA009 &  6.3\\\\\n\t5 & 5 & 47 & 1 & 31 & 253 & 9.308 & 8.908 &  0 & NBA008 &  7.2\\\\\n\t6 & 6 & 40 & 1 & 23 &  81 & 0.998 & 7.831 & NA & NBA016 & 10.9\\\\\n\\end{tabular}\n",
            "text/plain": [
              "  Customer.Id Age Edu Years.Employed Income Card.Debt Other.Debt Defaulted\n",
              "1 1           41  2    6              19    0.124     1.073       0       \n",
              "2 2           47  1   26             100    4.582     8.218       0       \n",
              "3 3           33  2   10              57    6.111     5.802       1       \n",
              "4 4           29  2    4              19    0.681     0.516       0       \n",
              "5 5           47  1   31             253    9.308     8.908       0       \n",
              "6 6           40  1   23              81    0.998     7.831      NA       \n",
              "  Address DebtIncomeRatio\n",
              "1 NBA001   6.3           \n",
              "2 NBA021  12.8           \n",
              "3 NBA013  20.9           \n",
              "4 NBA009   6.3           \n",
              "5 NBA008   7.2           \n",
              "6 NBA016  10.9           "
            ]
          },
          "metadata": {}
        },
        {
          "output_type": "display_data",
          "data": {
            "text/html": [
              "TRUE"
            ],
            "text/markdown": "TRUE",
            "text/latex": "TRUE",
            "text/plain": [
              "[1] TRUE"
            ]
          },
          "metadata": {}
        },
        {
          "output_type": "display_data",
          "data": {
            "text/plain": [
              "  Customer.Id         Age             Edu        Years.Employed  \n",
              " Min.   :  1.0   Min.   :20.00   Min.   :1.000   Min.   : 0.000  \n",
              " 1st Qu.:213.2   1st Qu.:29.00   1st Qu.:1.000   1st Qu.: 3.000  \n",
              " Median :425.5   Median :34.00   Median :1.000   Median : 7.000  \n",
              " Mean   :425.5   Mean   :35.03   Mean   :1.711   Mean   : 8.566  \n",
              " 3rd Qu.:637.8   3rd Qu.:41.00   3rd Qu.:2.000   3rd Qu.:13.000  \n",
              " Max.   :850.0   Max.   :56.00   Max.   :5.000   Max.   :33.000  \n",
              "                                                                 \n",
              "     Income         Card.Debt         Other.Debt       Defaulted     \n",
              " Min.   : 13.00   Min.   : 0.0120   Min.   : 0.046   Min.   :0.0000  \n",
              " 1st Qu.: 24.00   1st Qu.: 0.3825   1st Qu.: 1.046   1st Qu.:0.0000  \n",
              " Median : 35.00   Median : 0.8850   Median : 2.003   Median :0.0000  \n",
              " Mean   : 46.68   Mean   : 1.5768   Mean   : 3.079   Mean   :0.2614  \n",
              " 3rd Qu.: 55.75   3rd Qu.: 1.8985   3rd Qu.: 3.903   3rd Qu.:1.0000  \n",
              " Max.   :446.00   Max.   :20.5610   Max.   :35.197   Max.   :1.0000  \n",
              "                                                     NA's   :150     \n",
              "   Address          DebtIncomeRatio\n",
              " Length:850         Min.   : 0.10  \n",
              " Class :character   1st Qu.: 5.10  \n",
              " Mode  :character   Median : 8.70  \n",
              "                    Mean   :10.17  \n",
              "                    3rd Qu.:13.80  \n",
              "                    Max.   :41.30  \n",
              "                                   "
            ]
          },
          "metadata": {}
        }
      ]
    },
    {
      "cell_type": "code",
      "source": [
        "hist(dataset$Age)"
      ],
      "metadata": {
        "colab": {
          "base_uri": "https://localhost:8080/",
          "height": 437
        },
        "id": "NoK9rrVuHMRI",
        "outputId": "f930ccd1-a327-45da-b8ec-90028b037f63"
      },
      "execution_count": null,
      "outputs": [
        {
          "output_type": "display_data",
          "data": {
            "text/plain": [
              "Plot with title “Histogram of dataset$Age”"
            ],
            "image/png": "[encoded data removed]"
          },
          "metadata": {
            "image/png": {
              "width": 420,
              "height": 420
            }
          }
        }
      ]
    },
    {
      "cell_type": "markdown",
      "source": [
        "Представлена информация о покупателях (850 записей) - возразст (Age), лет образования (Edu), стаж работы (Years.Employed), доход (Income), а так же информация по кредитам (?), адрес. Есть строковые данные! Есть пропуски в данных!\n",
        "\n",
        "\n",
        "Попробуем выделить кластеры покупателей (целевых групп)"
      ],
      "metadata": {
        "id": "00_eufCWHXiU"
      }
    },
    {
      "cell_type": "code",
      "source": [
        "# предобработка: уберем пропуски в данных; удалим нецелевые признаки; \n",
        "df0 = data.frame(dataset)\n",
        "df0 <- na.omit(df0)\n",
        "\n",
        "df = subset(df0, select = -c(Customer.Id, Address))\n",
        "\n",
        "any(is.na(df))\n",
        "nrow(df)"
      ],
      "metadata": {
        "colab": {
          "base_uri": "https://localhost:8080/",
          "height": 52
        },
        "id": "40LITdKQHOz3",
        "outputId": "a4a8b05d-81ee-4137-f787-f49a18b6cf83"
      },
      "execution_count": null,
      "outputs": [
        {
          "output_type": "display_data",
          "data": {
            "text/html": [
              "FALSE"
            ],
            "text/markdown": "FALSE",
            "text/latex": "FALSE",
            "text/plain": [
              "[1] FALSE"
            ]
          },
          "metadata": {}
        },
        {
          "output_type": "display_data",
          "data": {
            "text/html": [
              "700"
            ],
            "text/markdown": "700",
            "text/latex": "700",
            "text/plain": [
              "[1] 700"
            ]
          },
          "metadata": {}
        }
      ]
    },
    {
      "cell_type": "code",
      "source": [
        "# нормализуем данные\n",
        "df_scaled <- data.frame(scale(df))\n",
        "\n",
        "head(df_scaled)\n",
        "nrow(df_scaled)"
      ],
      "metadata": {
        "colab": {
          "base_uri": "https://localhost:8080/",
          "height": 304
        },
        "id": "lURoU96DHfpE",
        "outputId": "ecc6e860-bce8-420a-fea0-f30cb6f7a72b"
      },
      "execution_count": null,
      "outputs": [
        {
          "output_type": "display_data",
          "data": {
            "text/html": [
              "<table class=\"dataframe\">\n",
              "<caption>A data.frame: 6 × 8</caption>\n",
              "<thead>\n",
              "\t<tr><th></th><th scope=col>Age</th><th scope=col>Edu</th><th scope=col>Years.Employed</th><th scope=col>Income</th><th scope=col>Card.Debt</th><th scope=col>Other.Debt</th><th scope=col>Defaulted</th><th scope=col>DebtIncomeRatio</th></tr>\n",
              "\t<tr><th></th><th scope=col>&lt;dbl&gt;</th><th scope=col>&lt;dbl&gt;</th><th scope=col>&lt;dbl&gt;</th><th scope=col>&lt;dbl&gt;</th><th scope=col>&lt;dbl&gt;</th><th scope=col>&lt;dbl&gt;</th><th scope=col>&lt;dbl&gt;</th><th scope=col>&lt;dbl&gt;</th></tr>\n",
              "</thead>\n",
              "<tbody>\n",
              "\t<tr><th scope=row>1</th><td> 0.7677551</td><td> 0.2985792</td><td>-0.3587500</td><td>-0.7225856</td><td>-0.6752165</td><td>-0.6038525</td><td>-0.5945246</td><td>-0.5801137</td></tr>\n",
              "\t<tr><th scope=row>2</th><td> 1.5180043</td><td>-0.7787684</td><td> 2.6451375</td><td> 1.4776508</td><td> 1.4303987</td><td> 1.5694981</td><td>-0.5945246</td><td> 0.3719557</td></tr>\n",
              "\t<tr><th scope=row>3</th><td>-0.2325773</td><td> 0.2985792</td><td> 0.2420275</td><td> 0.3096241</td><td> 2.1525803</td><td> 0.8346045</td><td> 1.6796133</td><td> 1.5583806</td></tr>\n",
              "\t<tr><th scope=row>4</th><td>-0.7327434</td><td> 0.2985792</td><td>-0.6591387</td><td>-0.7225856</td><td>-0.4121327</td><td>-0.7732796</td><td>-0.5945246</td><td>-0.5801137</td></tr>\n",
              "\t<tr><th scope=row>5</th><td> 1.5180043</td><td>-0.7787684</td><td> 3.3961094</td><td> 5.6336528</td><td> 3.6625964</td><td> 1.7793808</td><td>-0.5945246</td><td>-0.4482887</td></tr>\n",
              "\t<tr><th scope=row>7</th><td> 0.3926304</td><td> 0.2985792</td><td>-0.6591387</td><td> 0.2824607</td><td>-0.5250179</td><td>-0.7921386</td><td>-0.5945246</td><td>-1.2685330</td></tr>\n",
              "</tbody>\n",
              "</table>\n"
            ],
            "text/markdown": "\nA data.frame: 6 × 8\n\n| <!--/--> | Age &lt;dbl&gt; | Edu &lt;dbl&gt; | Years.Employed &lt;dbl&gt; | Income &lt;dbl&gt; | Card.Debt &lt;dbl&gt; | Other.Debt &lt;dbl&gt; | Defaulted &lt;dbl&gt; | DebtIncomeRatio &lt;dbl&gt; |\n|---|---|---|---|---|---|---|---|---|\n| 1 |  0.7677551 |  0.2985792 | -0.3587500 | -0.7225856 | -0.6752165 | -0.6038525 | -0.5945246 | -0.5801137 |\n| 2 |  1.5180043 | -0.7787684 |  2.6451375 |  1.4776508 |  1.4303987 |  1.5694981 | -0.5945246 |  0.3719557 |\n| 3 | -0.2325773 |  0.2985792 |  0.2420275 |  0.3096241 |  2.1525803 |  0.8346045 |  1.6796133 |  1.5583806 |\n| 4 | -0.7327434 |  0.2985792 | -0.6591387 | -0.7225856 | -0.4121327 | -0.7732796 | -0.5945246 | -0.5801137 |\n| 5 |  1.5180043 | -0.7787684 |  3.3961094 |  5.6336528 |  3.6625964 |  1.7793808 | -0.5945246 | -0.4482887 |\n| 7 |  0.3926304 |  0.2985792 | -0.6591387 |  0.2824607 | -0.5250179 | -0.7921386 | -0.5945246 | -1.2685330 |\n\n",
            "text/latex": "A data.frame: 6 × 8\n\\begin{tabular}{r|llllllll}\n  & Age & Edu & Years.Employed & Income & Card.Debt & Other.Debt & Defaulted & DebtIncomeRatio\\\\\n  & <dbl> & <dbl> & <dbl> & <dbl> & <dbl> & <dbl> & <dbl> & <dbl>\\\\\n\\hline\n\t1 &  0.7677551 &  0.2985792 & -0.3587500 & -0.7225856 & -0.6752165 & -0.6038525 & -0.5945246 & -0.5801137\\\\\n\t2 &  1.5180043 & -0.7787684 &  2.6451375 &  1.4776508 &  1.4303987 &  1.5694981 & -0.5945246 &  0.3719557\\\\\n\t3 & -0.2325773 &  0.2985792 &  0.2420275 &  0.3096241 &  2.1525803 &  0.8346045 &  1.6796133 &  1.5583806\\\\\n\t4 & -0.7327434 &  0.2985792 & -0.6591387 & -0.7225856 & -0.4121327 & -0.7732796 & -0.5945246 & -0.5801137\\\\\n\t5 &  1.5180043 & -0.7787684 &  3.3961094 &  5.6336528 &  3.6625964 &  1.7793808 & -0.5945246 & -0.4482887\\\\\n\t7 &  0.3926304 &  0.2985792 & -0.6591387 &  0.2824607 & -0.5250179 & -0.7921386 & -0.5945246 & -1.2685330\\\\\n\\end{tabular}\n",
            "text/plain": [
              "  Age        Edu        Years.Employed Income     Card.Debt  Other.Debt\n",
              "1  0.7677551  0.2985792 -0.3587500     -0.7225856 -0.6752165 -0.6038525\n",
              "2  1.5180043 -0.7787684  2.6451375      1.4776508  1.4303987  1.5694981\n",
              "3 -0.2325773  0.2985792  0.2420275      0.3096241  2.1525803  0.8346045\n",
              "4 -0.7327434  0.2985792 -0.6591387     -0.7225856 -0.4121327 -0.7732796\n",
              "5  1.5180043 -0.7787684  3.3961094      5.6336528  3.6625964  1.7793808\n",
              "7  0.3926304  0.2985792 -0.6591387      0.2824607 -0.5250179 -0.7921386\n",
              "  Defaulted  DebtIncomeRatio\n",
              "1 -0.5945246 -0.5801137     \n",
              "2 -0.5945246  0.3719557     \n",
              "3  1.6796133  1.5583806     \n",
              "4 -0.5945246 -0.5801137     \n",
              "5 -0.5945246 -0.4482887     \n",
              "7 -0.5945246 -1.2685330     "
            ]
          },
          "metadata": {}
        },
        {
          "output_type": "display_data",
          "data": {
            "text/html": [
              "700"
            ],
            "text/markdown": "700",
            "text/latex": "700",
            "text/plain": [
              "[1] 700"
            ]
          },
          "metadata": {}
        }
      ]
    },
    {
      "cell_type": "code",
      "source": [
        "set.seed(42)\n",
        "\n",
        "# функция запускает алгоритм k-mean и сохраняет сумму квадратов расстояния в кластерах\n",
        "kmean_withinss <- function(dataset, k) {\n",
        "    cluster <- kmeans(dataset, k)\n",
        "    return (cluster$tot.withinss)\n",
        "}\n",
        "\n",
        "# Set maximum cluster \n",
        "max_k <- 10 \n",
        "# Run algorithm over a range of k \n",
        "wss <- sapply(2:max_k, kmean_withinss, dataset = df_scaled)\n",
        "\n",
        "# Create a data frame to plot the graph\n",
        "elbow <-data.frame(2:max_k, wss)\n",
        "\n",
        "# Plot the graph with gglop\n",
        "ggplot(elbow, aes(x = X2.max_k, y = wss)) +\n",
        "    geom_point() +\n",
        "    geom_line() +\n",
        "    scale_x_continuous(breaks = seq(1, max_k, by = 1))"
      ],
      "metadata": {
        "colab": {
          "base_uri": "https://localhost:8080/",
          "height": 437
        },
        "id": "52h-xZQVHpvR",
        "outputId": "8ba6caf1-3b6c-44bd-df19-97e1b0c60215"
      },
      "execution_count": null,
      "outputs": [
        {
          "output_type": "display_data",
          "data": {
            "text/plain": [
              "plot without title"
            ],
            "image/png": "[encoded data removed]"
          },
          "metadata": {
            "image/png": {
              "width": 420,
              "height": 420
            }
          }
        }
      ]
    },
    {
      "cell_type": "markdown",
      "source": [
        "Резкого уменьшения суммы квадратичной ошибки (точка локтя) при переборе кластеров не наблюдается. Для простоты примем за оптимальное количество кластеров 3."
      ],
      "metadata": {
        "id": "4dnx_mGMHuCm"
      }
    },
    {
      "cell_type": "code",
      "source": [
        "optimal_k <- 3\n",
        "\n",
        "# create clustering model\n",
        "clust <- kmeans(df_scaled, optimal_k)"
      ],
      "metadata": {
        "id": "laNCNmwTHut3"
      },
      "execution_count": null,
      "outputs": []
    },
    {
      "cell_type": "code",
      "source": [
        "# информация о кластерах\n",
        "clust$centers\n",
        "clust$size"
      ],
      "metadata": {
        "colab": {
          "base_uri": "https://localhost:8080/",
          "height": 178
        },
        "id": "m5a6D2xAHyN_",
        "outputId": "b8205efa-132b-4b21-fe8b-bb2cba24bd10"
      },
      "execution_count": null,
      "outputs": [
        {
          "output_type": "display_data",
          "data": {
            "text/html": [
              "<table class=\"dataframe\">\n",
              "<caption>A matrix: 3 × 8 of type dbl</caption>\n",
              "<thead>\n",
              "\t<tr><th></th><th scope=col>Age</th><th scope=col>Edu</th><th scope=col>Years.Employed</th><th scope=col>Income</th><th scope=col>Card.Debt</th><th scope=col>Other.Debt</th><th scope=col>Defaulted</th><th scope=col>DebtIncomeRatio</th></tr>\n",
              "</thead>\n",
              "<tbody>\n",
              "\t<tr><th scope=row>1</th><td>-0.4368377</td><td> 0.1379808</td><td>-0.7057830</td><td>-0.4106281</td><td>-0.03087431</td><td>-0.0983392</td><td> 1.6231129</td><td> 0.5383518</td></tr>\n",
              "\t<tr><th scope=row>2</th><td>-0.1416654</td><td>-0.1307985</td><td>-0.1116911</td><td>-0.2541151</td><td>-0.36153484</td><td>-0.3983165</td><td>-0.5945246</td><td>-0.3923533</td></tr>\n",
              "\t<tr><th scope=row>3</th><td> 1.0318428</td><td> 0.2554853</td><td> 1.2789695</td><td> 1.3705183</td><td> 1.23716950</td><td> 1.4458851</td><td>-0.1215039</td><td> 0.6060769</td></tr>\n",
              "</tbody>\n",
              "</table>\n"
            ],
            "text/markdown": "\nA matrix: 3 × 8 of type dbl\n\n| <!--/--> | Age | Edu | Years.Employed | Income | Card.Debt | Other.Debt | Defaulted | DebtIncomeRatio |\n|---|---|---|---|---|---|---|---|---|\n| 1 | -0.4368377 |  0.1379808 | -0.7057830 | -0.4106281 | -0.03087431 | -0.0983392 |  1.6231129 |  0.5383518 |\n| 2 | -0.1416654 | -0.1307985 | -0.1116911 | -0.2541151 | -0.36153484 | -0.3983165 | -0.5945246 | -0.3923533 |\n| 3 |  1.0318428 |  0.2554853 |  1.2789695 |  1.3705183 |  1.23716950 |  1.4458851 | -0.1215039 |  0.6060769 |\n\n",
            "text/latex": "A matrix: 3 × 8 of type dbl\n\\begin{tabular}{r|llllllll}\n  & Age & Edu & Years.Employed & Income & Card.Debt & Other.Debt & Defaulted & DebtIncomeRatio\\\\\n\\hline\n\t1 & -0.4368377 &  0.1379808 & -0.7057830 & -0.4106281 & -0.03087431 & -0.0983392 &  1.6231129 &  0.5383518\\\\\n\t2 & -0.1416654 & -0.1307985 & -0.1116911 & -0.2541151 & -0.36153484 & -0.3983165 & -0.5945246 & -0.3923533\\\\\n\t3 &  1.0318428 &  0.2554853 &  1.2789695 &  1.3705183 &  1.23716950 &  1.4458851 & -0.1215039 &  0.6060769\\\\\n\\end{tabular}\n",
            "text/plain": [
              "  Age        Edu        Years.Employed Income     Card.Debt   Other.Debt\n",
              "1 -0.4368377  0.1379808 -0.7057830     -0.4106281 -0.03087431 -0.0983392\n",
              "2 -0.1416654 -0.1307985 -0.1116911     -0.2541151 -0.36153484 -0.3983165\n",
              "3  1.0318428  0.2554853  1.2789695      1.3705183  1.23716950  1.4458851\n",
              "  Defaulted  DebtIncomeRatio\n",
              "1  1.6231129  0.5383518     \n",
              "2 -0.5945246 -0.3923533     \n",
              "3 -0.1215039  0.6060769     "
            ]
          },
          "metadata": {}
        },
        {
          "output_type": "display_data",
          "data": {
            "text/html": [
              "<style>\n",
              ".list-inline {list-style: none; margin:0; padding: 0}\n",
              ".list-inline>li {display: inline-block}\n",
              ".list-inline>li:not(:last-child)::after {content: \"\\00b7\"; padding: 0 .5ex}\n",
              "</style>\n",
              "<ol class=list-inline><li>161</li><li>414</li><li>125</li></ol>\n"
            ],
            "text/markdown": "1. 161\n2. 414\n3. 125\n\n\n",
            "text/latex": "\\begin{enumerate*}\n\\item 161\n\\item 414\n\\item 125\n\\end{enumerate*}\n",
            "text/plain": [
              "[1] 161 414 125"
            ]
          },
          "metadata": {}
        }
      ]
    },
    {
      "cell_type": "code",
      "source": [
        "# присвоим метки кластеров исходному набору данных\n",
        "df$Cluster <- clust$cluster\n",
        "df$Cluster.Label <- as.character(clust$cluster)\n",
        "\n",
        "df_scaled$Cluster <- clust$cluster\n",
        "df_scaled$Cluster.Label <- as.character(clust$cluster)\n",
        "\n",
        "head(df)"
      ],
      "metadata": {
        "colab": {
          "base_uri": "https://localhost:8080/",
          "height": 286
        },
        "id": "pYvNybU2H4y3",
        "outputId": "5717b6d6-b297-4d1c-c618-89ff5211070f"
      },
      "execution_count": null,
      "outputs": [
        {
          "output_type": "display_data",
          "data": {
            "text/html": [
              "<table class=\"dataframe\">\n",
              "<caption>A data.frame: 6 × 10</caption>\n",
              "<thead>\n",
              "\t<tr><th></th><th scope=col>Age</th><th scope=col>Edu</th><th scope=col>Years.Employed</th><th scope=col>Income</th><th scope=col>Card.Debt</th><th scope=col>Other.Debt</th><th scope=col>Defaulted</th><th scope=col>DebtIncomeRatio</th><th scope=col>Cluster</th><th scope=col>Cluster.Label</th></tr>\n",
              "\t<tr><th></th><th scope=col>&lt;int&gt;</th><th scope=col>&lt;int&gt;</th><th scope=col>&lt;int&gt;</th><th scope=col>&lt;int&gt;</th><th scope=col>&lt;dbl&gt;</th><th scope=col>&lt;dbl&gt;</th><th scope=col>&lt;int&gt;</th><th scope=col>&lt;dbl&gt;</th><th scope=col>&lt;int&gt;</th><th scope=col>&lt;chr&gt;</th></tr>\n",
              "</thead>\n",
              "<tbody>\n",
              "\t<tr><th scope=row>1</th><td>41</td><td>2</td><td> 6</td><td> 19</td><td>0.124</td><td>1.073</td><td>0</td><td> 6.3</td><td>2</td><td>2</td></tr>\n",
              "\t<tr><th scope=row>2</th><td>47</td><td>1</td><td>26</td><td>100</td><td>4.582</td><td>8.218</td><td>0</td><td>12.8</td><td>3</td><td>3</td></tr>\n",
              "\t<tr><th scope=row>3</th><td>33</td><td>2</td><td>10</td><td> 57</td><td>6.111</td><td>5.802</td><td>1</td><td>20.9</td><td>1</td><td>1</td></tr>\n",
              "\t<tr><th scope=row>4</th><td>29</td><td>2</td><td> 4</td><td> 19</td><td>0.681</td><td>0.516</td><td>0</td><td> 6.3</td><td>2</td><td>2</td></tr>\n",
              "\t<tr><th scope=row>5</th><td>47</td><td>1</td><td>31</td><td>253</td><td>9.308</td><td>8.908</td><td>0</td><td> 7.2</td><td>3</td><td>3</td></tr>\n",
              "\t<tr><th scope=row>7</th><td>38</td><td>2</td><td> 4</td><td> 56</td><td>0.442</td><td>0.454</td><td>0</td><td> 1.6</td><td>2</td><td>2</td></tr>\n",
              "</tbody>\n",
              "</table>\n"
            ],
            "text/markdown": "\nA data.frame: 6 × 10\n\n| <!--/--> | Age &lt;int&gt; | Edu &lt;int&gt; | Years.Employed &lt;int&gt; | Income &lt;int&gt; | Card.Debt &lt;dbl&gt; | Other.Debt &lt;dbl&gt; | Defaulted &lt;int&gt; | DebtIncomeRatio &lt;dbl&gt; | Cluster &lt;int&gt; | Cluster.Label &lt;chr&gt; |\n|---|---|---|---|---|---|---|---|---|---|---|\n| 1 | 41 | 2 |  6 |  19 | 0.124 | 1.073 | 0 |  6.3 | 2 | 2 |\n| 2 | 47 | 1 | 26 | 100 | 4.582 | 8.218 | 0 | 12.8 | 3 | 3 |\n| 3 | 33 | 2 | 10 |  57 | 6.111 | 5.802 | 1 | 20.9 | 1 | 1 |\n| 4 | 29 | 2 |  4 |  19 | 0.681 | 0.516 | 0 |  6.3 | 2 | 2 |\n| 5 | 47 | 1 | 31 | 253 | 9.308 | 8.908 | 0 |  7.2 | 3 | 3 |\n| 7 | 38 | 2 |  4 |  56 | 0.442 | 0.454 | 0 |  1.6 | 2 | 2 |\n\n",
            "text/latex": "A data.frame: 6 × 10\n\\begin{tabular}{r|llllllllll}\n  & Age & Edu & Years.Employed & Income & Card.Debt & Other.Debt & Defaulted & DebtIncomeRatio & Cluster & Cluster.Label\\\\\n  & <int> & <int> & <int> & <int> & <dbl> & <dbl> & <int> & <dbl> & <int> & <chr>\\\\\n\\hline\n\t1 & 41 & 2 &  6 &  19 & 0.124 & 1.073 & 0 &  6.3 & 2 & 2\\\\\n\t2 & 47 & 1 & 26 & 100 & 4.582 & 8.218 & 0 & 12.8 & 3 & 3\\\\\n\t3 & 33 & 2 & 10 &  57 & 6.111 & 5.802 & 1 & 20.9 & 1 & 1\\\\\n\t4 & 29 & 2 &  4 &  19 & 0.681 & 0.516 & 0 &  6.3 & 2 & 2\\\\\n\t5 & 47 & 1 & 31 & 253 & 9.308 & 8.908 & 0 &  7.2 & 3 & 3\\\\\n\t7 & 38 & 2 &  4 &  56 & 0.442 & 0.454 & 0 &  1.6 & 2 & 2\\\\\n\\end{tabular}\n",
            "text/plain": [
              "  Age Edu Years.Employed Income Card.Debt Other.Debt Defaulted DebtIncomeRatio\n",
              "1 41  2    6              19    0.124     1.073      0          6.3           \n",
              "2 47  1   26             100    4.582     8.218      0         12.8           \n",
              "3 33  2   10              57    6.111     5.802      1         20.9           \n",
              "4 29  2    4              19    0.681     0.516      0          6.3           \n",
              "5 47  1   31             253    9.308     8.908      0          7.2           \n",
              "7 38  2    4              56    0.442     0.454      0          1.6           \n",
              "  Cluster Cluster.Label\n",
              "1 2       2            \n",
              "2 3       3            \n",
              "3 1       1            \n",
              "4 2       2            \n",
              "5 3       3            \n",
              "7 2       2            "
            ]
          },
          "metadata": {}
        }
      ]
    },
    {
      "cell_type": "code",
      "source": [
        "# Make plots wider \n",
        "options(repr.plot.width=15, repr.plot.height=8)"
      ],
      "metadata": {
        "id": "AYXUbKpmH9tI"
      },
      "execution_count": null,
      "outputs": []
    },
    {
      "cell_type": "code",
      "source": [
        "# Построим тепловую карту\n",
        "center <- clust$centers\n",
        "\n",
        "# Create dataset with the cluster number\n",
        "cluster <- c(1:nrow(center))\n",
        "center_df <- data.frame(cluster, center)\n",
        "\n",
        "# Reshape the data\n",
        "center_reshape <- gather(center_df, features, values, Age:DebtIncomeRatio)\n",
        "head(center_reshape)"
      ],
      "metadata": {
        "colab": {
          "base_uri": "https://localhost:8080/",
          "height": 286
        },
        "id": "qvI4a-fMH-3U",
        "outputId": "4666946c-d37b-484e-c80e-bb2279bc36d2"
      },
      "execution_count": null,
      "outputs": [
        {
          "output_type": "display_data",
          "data": {
            "text/html": [
              "<table class=\"dataframe\">\n",
              "<caption>A data.frame: 6 × 3</caption>\n",
              "<thead>\n",
              "\t<tr><th></th><th scope=col>cluster</th><th scope=col>features</th><th scope=col>values</th></tr>\n",
              "\t<tr><th></th><th scope=col>&lt;int&gt;</th><th scope=col>&lt;chr&gt;</th><th scope=col>&lt;dbl&gt;</th></tr>\n",
              "</thead>\n",
              "<tbody>\n",
              "\t<tr><th scope=row>1</th><td>1</td><td>Age</td><td>-0.4368377</td></tr>\n",
              "\t<tr><th scope=row>2</th><td>2</td><td>Age</td><td>-0.1416654</td></tr>\n",
              "\t<tr><th scope=row>3</th><td>3</td><td>Age</td><td> 1.0318428</td></tr>\n",
              "\t<tr><th scope=row>4</th><td>1</td><td>Edu</td><td> 0.1379808</td></tr>\n",
              "\t<tr><th scope=row>5</th><td>2</td><td>Edu</td><td>-0.1307985</td></tr>\n",
              "\t<tr><th scope=row>6</th><td>3</td><td>Edu</td><td> 0.2554853</td></tr>\n",
              "</tbody>\n",
              "</table>\n"
            ],
            "text/markdown": "\nA data.frame: 6 × 3\n\n| <!--/--> | cluster &lt;int&gt; | features &lt;chr&gt; | values &lt;dbl&gt; |\n|---|---|---|---|\n| 1 | 1 | Age | -0.4368377 |\n| 2 | 2 | Age | -0.1416654 |\n| 3 | 3 | Age |  1.0318428 |\n| 4 | 1 | Edu |  0.1379808 |\n| 5 | 2 | Edu | -0.1307985 |\n| 6 | 3 | Edu |  0.2554853 |\n\n",
            "text/latex": "A data.frame: 6 × 3\n\\begin{tabular}{r|lll}\n  & cluster & features & values\\\\\n  & <int> & <chr> & <dbl>\\\\\n\\hline\n\t1 & 1 & Age & -0.4368377\\\\\n\t2 & 2 & Age & -0.1416654\\\\\n\t3 & 3 & Age &  1.0318428\\\\\n\t4 & 1 & Edu &  0.1379808\\\\\n\t5 & 2 & Edu & -0.1307985\\\\\n\t6 & 3 & Edu &  0.2554853\\\\\n\\end{tabular}\n",
            "text/plain": [
              "  cluster features values    \n",
              "1 1       Age      -0.4368377\n",
              "2 2       Age      -0.1416654\n",
              "3 3       Age       1.0318428\n",
              "4 1       Edu       0.1379808\n",
              "5 2       Edu      -0.1307985\n",
              "6 3       Edu       0.2554853"
            ]
          },
          "metadata": {}
        }
      ]
    },
    {
      "cell_type": "code",
      "source": [
        "# Create the palette\n",
        "hm.palette <-colorRampPalette(rev(brewer.pal(10, 'RdYlGn')), space='Lab')\n",
        "\n",
        "# Plot the heat map\n",
        "ggplot(data = center_reshape, aes(x = features, y = cluster, fill = values)) +\n",
        "    scale_y_continuous(breaks = seq(1, 8, by = 1)) +\n",
        "    geom_tile() +\n",
        "    coord_equal() +\n",
        "    scale_fill_gradientn(colours = hm.palette(50)) +\n",
        "    theme(aspect.ratio = 0.85)"
      ],
      "metadata": {
        "colab": {
          "base_uri": "https://localhost:8080/",
          "height": 497
        },
        "id": "1gRkVWltIDqW",
        "outputId": "5f820eec-bd16-41b0-c858-68c14d9ea257"
      },
      "execution_count": null,
      "outputs": [
        {
          "output_type": "display_data",
          "data": {
            "text/plain": [
              "plot without title"
            ],
            "image/png": "[encoded data removed]"
          },
          "metadata": {
            "image/png": {
              "width": 900,
              "height": 480
            }
          }
        }
      ]
    },
    {
      "cell_type": "markdown",
      "source": [
        "Положительные значения указывают, что z-показатель для данного кластера выше общего среднего значения. Например, кластер 3 содержит покупателей с наиболее высоким доходом. В кластере 1 достаточно молодые и не таким большим стажем. В кластере 2 скорее средняя по всем показателям категория граждан. Т.е. вырисовываются определенные целевые категории."
      ],
      "metadata": {
        "id": "XYzwK-6UIJHz"
      }
    },
    {
      "cell_type": "code",
      "source": [
        "# визуализация данных в разрезе возраста и дохода покупателя с центрами кластеров\n",
        "ggplot() +\n",
        "  geom_point(data = df_scaled, mapping = aes(x = Age, y = Income, colour = Cluster.Label)) +\n",
        "    geom_point(mapping = aes(x = clust$centers[, \"Age\"], \n",
        "                                  y = clust$centers[, \"Income\"]),\n",
        "                                  color = \"red\", size = 4)"
      ],
      "metadata": {
        "colab": {
          "base_uri": "https://localhost:8080/",
          "height": 497
        },
        "id": "n1XqHUaFIGW8",
        "outputId": "1415e7fe-36f6-440e-aaa0-18709e6092c6"
      },
      "execution_count": null,
      "outputs": [
        {
          "output_type": "display_data",
          "data": {
            "text/plain": [
              "plot without title"
            ],
            "image/png": "[encoded data removed]"
          },
          "metadata": {
            "image/png": {
              "width": 900,
              "height": 480
            }
          }
        }
      ]
    },
    {
      "cell_type": "markdown",
      "source": [
        "Классификация"
      ],
      "metadata": {
        "id": "GcOCB4IeIfA4"
      }
    },
    {
      "cell_type": "code",
      "source": [
        "# libraries\n",
        "install.packages(\"naivebayes\")\n",
        "install.packages(\"psych\")\n",
        "\n",
        "library(naivebayes)\n",
        "library(dplyr)\n",
        "library(ggplot2)\n",
        "library(psych)"
      ],
      "metadata": {
        "colab": {
          "base_uri": "https://localhost:8080/"
        },
        "id": "f7bBHhSOIfrC",
        "outputId": "59a8861d-b292-48e3-f0b4-73d71ffaa479"
      },
      "execution_count": null,
      "outputs": [
        {
          "output_type": "stream",
          "name": "stderr",
          "text": [
            "Installing package into ‘/usr/local/lib/R/site-library’\n",
            "(as ‘lib’ is unspecified)\n",
            "\n",
            "Installing package into ‘/usr/local/lib/R/site-library’\n",
            "(as ‘lib’ is unspecified)\n",
            "\n",
            "also installing the dependency ‘mnormt’\n",
            "\n",
            "\n",
            "naivebayes 0.9.7 loaded\n",
            "\n",
            "\n",
            "Attaching package: ‘dplyr’\n",
            "\n",
            "\n",
            "The following objects are masked from ‘package:stats’:\n",
            "\n",
            "    filter, lag\n",
            "\n",
            "\n",
            "The following objects are masked from ‘package:base’:\n",
            "\n",
            "    intersect, setdiff, setequal, union\n",
            "\n",
            "\n",
            "\n",
            "Attaching package: ‘psych’\n",
            "\n",
            "\n",
            "The following objects are masked from ‘package:ggplot2’:\n",
            "\n",
            "    %+%, alpha\n",
            "\n",
            "\n"
          ]
        }
      ]
    },
    {
      "cell_type": "code",
      "source": [
        "# считываем датасет\n",
        "getwd()\n",
        "data <- read.csv('https://raw.githubusercontent.com/bkrai/Statistical-Modeling-and-Graphs-with-R/main/binary.csv')"
      ],
      "metadata": {
        "colab": {
          "base_uri": "https://localhost:8080/",
          "height": 34
        },
        "id": "Oa5BRYmmI9FO",
        "outputId": "f1e516d7-aee5-405b-e3de-4fa9984cf744"
      },
      "execution_count": null,
      "outputs": [
        {
          "output_type": "display_data",
          "data": {
            "text/html": [
              "'/content'"
            ],
            "text/markdown": "'/content'",
            "text/latex": "'/content'",
            "text/plain": [
              "[1] \"/content\""
            ]
          },
          "metadata": {}
        }
      ]
    },
    {
      "cell_type": "code",
      "source": [
        "# содержимое данных\n",
        "str(data)\n",
        "summary(data) "
      ],
      "metadata": {
        "colab": {
          "base_uri": "https://localhost:8080/",
          "height": 225
        },
        "id": "4XTRLGG7JEUr",
        "outputId": "af688c94-dc7e-4e66-b649-c26a93cce30f"
      },
      "execution_count": null,
      "outputs": [
        {
          "output_type": "stream",
          "name": "stdout",
          "text": [
            "'data.frame':\t400 obs. of  4 variables:\n",
            " $ admit: int  0 1 1 1 0 1 1 0 1 0 ...\n",
            " $ gre  : int  380 660 800 640 520 760 560 400 540 700 ...\n",
            " $ gpa  : num  3.61 3.67 4 3.19 2.93 3 2.98 3.08 3.39 3.92 ...\n",
            " $ rank : int  3 3 1 4 4 2 1 2 3 2 ...\n"
          ]
        },
        {
          "output_type": "display_data",
          "data": {
            "text/plain": [
              "     admit             gre             gpa             rank      \n",
              " Min.   :0.0000   Min.   :220.0   Min.   :2.260   Min.   :1.000  \n",
              " 1st Qu.:0.0000   1st Qu.:520.0   1st Qu.:3.130   1st Qu.:2.000  \n",
              " Median :0.0000   Median :580.0   Median :3.395   Median :2.000  \n",
              " Mean   :0.3175   Mean   :587.7   Mean   :3.390   Mean   :2.485  \n",
              " 3rd Qu.:1.0000   3rd Qu.:660.0   3rd Qu.:3.670   3rd Qu.:3.000  \n",
              " Max.   :1.0000   Max.   :800.0   Max.   :4.000   Max.   :4.000  "
            ]
          },
          "metadata": {}
        }
      ]
    },
    {
      "cell_type": "markdown",
      "source": [
        "Поля датафрейма:\n",
        "admit - принят ли в учебное заведение (да/нет);\n",
        "gre - баллы за Graduate Record Examination - стандартизированный тест в аспирантуру за границей;\n",
        "gpa - cредний балл, т.е. насколько хорошо вы набрали на своих курсах в среднем;\n",
        "rank - рейтинг университета, откуда выпускник."
      ],
      "metadata": {
        "id": "CfgA-3-MJH29"
      }
    },
    {
      "cell_type": "code",
      "source": [
        "# поля rank и admit категориальные переменные, приведем к фактору (строка-категория)\n",
        "data$rank <- as.factor(data$rank)\n",
        "data$admit <- as.factor(data$admit)"
      ],
      "metadata": {
        "id": "tLXvbBxkJIhc"
      },
      "execution_count": null,
      "outputs": []
    },
    {
      "cell_type": "code",
      "source": [
        "# разбиение выборки на обучающую и тестовую выборки в пропорции 80% к 20% соответственно\n",
        "set.seed(42)\n",
        "ind <- sample(2, nrow(data), replace=TRUE, prob=c(0.8,.2))\n",
        "train <- data[ind==1,]\n",
        "test <- data[ind==2,]"
      ],
      "metadata": {
        "id": "bCNm2hk3JPMl"
      },
      "execution_count": null,
      "outputs": []
    },
    {
      "cell_type": "code",
      "source": [
        "# модель Naive Bayes; admit как функция для всех остальных данных (.)\n",
        "model <- naive_bayes(admit ~ ., data = train, usekernel = T)\n",
        "model"
      ],
      "metadata": {
        "colab": {
          "base_uri": "https://localhost:8080/",
          "height": 1000
        },
        "id": "WG0Zv-CkJSsM",
        "outputId": "e316c058-bb0e-4505-cc57-8117ea7fa517"
      },
      "execution_count": null,
      "outputs": [
        {
          "output_type": "display_data",
          "data": {
            "text/plain": [
              "\n",
              "================================== Naive Bayes ================================== \n",
              " \n",
              " Call: \n",
              "naive_bayes.formula(formula = admit ~ ., data = train, usekernel = T)\n",
              "\n",
              "--------------------------------------------------------------------------------- \n",
              " \n",
              "Laplace smoothing: 0\n",
              "\n",
              "--------------------------------------------------------------------------------- \n",
              " \n",
              " A priori probabilities: \n",
              "\n",
              "       0        1 \n",
              "0.677116 0.322884 \n",
              "\n",
              "--------------------------------------------------------------------------------- \n",
              " \n",
              " Tables: \n",
              "\n",
              "--------------------------------------------------------------------------------- \n",
              " ::: gre::0 (KDE)\n",
              "--------------------------------------------------------------------------------- \n",
              "\n",
              "Call:\n",
              "\tdensity.default(x = x, na.rm = TRUE)\n",
              "\n",
              "Data: x (216 obs.);\tBandwidth 'bw' = 35.36\n",
              "\n",
              "       x               y            \n",
              " Min.   :193.9   Min.   :0.0000012  \n",
              " 1st Qu.:372.0   1st Qu.:0.0002996  \n",
              " Median :550.0   Median :0.0012170  \n",
              " Mean   :550.0   Mean   :0.0014027  \n",
              " 3rd Qu.:728.0   3rd Qu.:0.0025592  \n",
              " Max.   :906.1   Max.   :0.0031371  \n",
              "\n",
              "--------------------------------------------------------------------------------- \n",
              " ::: gre::1 (KDE)\n",
              "--------------------------------------------------------------------------------- \n",
              "\n",
              "Call:\n",
              "\tdensity.default(x = x, na.rm = TRUE)\n",
              "\n",
              "Data: x (103 obs.);\tBandwidth 'bw' = 37.21\n",
              "\n",
              "       x               y            \n",
              " Min.   :228.4   Min.   :1.177e-06  \n",
              " 1st Qu.:399.2   1st Qu.:2.155e-04  \n",
              " Median :570.0   Median :1.493e-03  \n",
              " Mean   :570.0   Mean   :1.462e-03  \n",
              " 3rd Qu.:740.8   3rd Qu.:2.631e-03  \n",
              " Max.   :911.6   Max.   :3.289e-03  \n",
              "\n",
              "--------------------------------------------------------------------------------- \n",
              " ::: gpa::0 (KDE)\n",
              "--------------------------------------------------------------------------------- \n",
              "\n",
              "Call:\n",
              "\tdensity.default(x = x, na.rm = TRUE)\n",
              "\n",
              "Data: x (216 obs.);\tBandwidth 'bw' = 0.116\n",
              "\n",
              "       x               y            \n",
              " Min.   :1.912   Min.   :0.0001807  \n",
              " 1st Qu.:2.521   1st Qu.:0.0467462  \n",
              " Median :3.130   Median :0.4130343  \n",
              " Mean   :3.130   Mean   :0.4100566  \n",
              " 3rd Qu.:3.739   3rd Qu.:0.7043209  \n",
              " Max.   :4.348   Max.   :1.0143689  \n",
              "\n",
              "--------------------------------------------------------------------------------- \n",
              " ::: gpa::1 (KDE)\n",
              "--------------------------------------------------------------------------------- \n",
              "\n",
              "Call:\n",
              "\tdensity.default(x = x, na.rm = TRUE)\n",
              "\n",
              "Data: x (103 obs.);\tBandwidth 'bw' = 0.1348\n",
              "\n",
              "       x               y            \n",
              " Min.   :2.016   Min.   :0.0003251  \n",
              " 1st Qu.:2.613   1st Qu.:0.0709231  \n",
              " Median :3.210   Median :0.3492694  \n",
              " Mean   :3.210   Mean   :0.4181310  \n",
              " 3rd Qu.:3.807   3rd Qu.:0.7399729  \n",
              " Max.   :4.404   Max.   :1.0376197  \n",
              "\n",
              "--------------------------------------------------------------------------------- \n",
              " ::: rank (Categorical) \n",
              "--------------------------------------------------------------------------------- \n",
              "    \n",
              "rank          0          1\n",
              "   1 0.09259259 0.28155340\n",
              "   2 0.37500000 0.40776699\n",
              "   3 0.33796296 0.22330097\n",
              "   4 0.19444444 0.08737864\n",
              "\n",
              "---------------------------------------------------------------------------------\n"
            ]
          },
          "metadata": {}
        }
      ]
    },
    {
      "cell_type": "code",
      "source": [
        "# предсказание на тренировочно выборке\n",
        "p <- predict(model, train, type= 'prob')\n",
        "head(cbind(p, train))"
      ],
      "metadata": {
        "colab": {
          "base_uri": "https://localhost:8080/",
          "height": 321
        },
        "id": "Cg2xPjJxJXsz",
        "outputId": "34395450-250e-4d20-be27-2c2f7b6d45a9"
      },
      "execution_count": null,
      "outputs": [
        {
          "output_type": "stream",
          "name": "stderr",
          "text": [
            "Warning message:\n",
            "“predict.naive_bayes(): more features in the newdata are provided as there are probability tables in the object. Calculation is performed based on features to be found in the tables.”\n"
          ]
        },
        {
          "output_type": "display_data",
          "data": {
            "text/html": [
              "<table class=\"dataframe\">\n",
              "<caption>A data.frame: 6 × 6</caption>\n",
              "<thead>\n",
              "\t<tr><th></th><th scope=col>0</th><th scope=col>1</th><th scope=col>admit</th><th scope=col>gre</th><th scope=col>gpa</th><th scope=col>rank</th></tr>\n",
              "\t<tr><th></th><th scope=col>&lt;dbl&gt;</th><th scope=col>&lt;dbl&gt;</th><th scope=col>&lt;fct&gt;</th><th scope=col>&lt;int&gt;</th><th scope=col>&lt;dbl&gt;</th><th scope=col>&lt;fct&gt;</th></tr>\n",
              "</thead>\n",
              "<tbody>\n",
              "\t<tr><th scope=row>3</th><td>0.1796866</td><td>0.8203134</td><td>1</td><td>800</td><td>4.00</td><td>1</td></tr>\n",
              "\t<tr><th scope=row>5</th><td>0.8895321</td><td>0.1104679</td><td>0</td><td>520</td><td>2.93</td><td>4</td></tr>\n",
              "\t<tr><th scope=row>6</th><td>0.6270414</td><td>0.3729586</td><td>1</td><td>760</td><td>3.00</td><td>2</td></tr>\n",
              "\t<tr><th scope=row>7</th><td>0.5318809</td><td>0.4681191</td><td>1</td><td>560</td><td>2.98</td><td>1</td></tr>\n",
              "\t<tr><th scope=row>8</th><td>0.8889455</td><td>0.1110545</td><td>0</td><td>400</td><td>3.08</td><td>2</td></tr>\n",
              "\t<tr><th scope=row>9</th><td>0.7995766</td><td>0.2004234</td><td>1</td><td>540</td><td>3.39</td><td>3</td></tr>\n",
              "</tbody>\n",
              "</table>\n"
            ],
            "text/markdown": "\nA data.frame: 6 × 6\n\n| <!--/--> | 0 &lt;dbl&gt; | 1 &lt;dbl&gt; | admit &lt;fct&gt; | gre &lt;int&gt; | gpa &lt;dbl&gt; | rank &lt;fct&gt; |\n|---|---|---|---|---|---|---|\n| 3 | 0.1796866 | 0.8203134 | 1 | 800 | 4.00 | 1 |\n| 5 | 0.8895321 | 0.1104679 | 0 | 520 | 2.93 | 4 |\n| 6 | 0.6270414 | 0.3729586 | 1 | 760 | 3.00 | 2 |\n| 7 | 0.5318809 | 0.4681191 | 1 | 560 | 2.98 | 1 |\n| 8 | 0.8889455 | 0.1110545 | 0 | 400 | 3.08 | 2 |\n| 9 | 0.7995766 | 0.2004234 | 1 | 540 | 3.39 | 3 |\n\n",
            "text/latex": "A data.frame: 6 × 6\n\\begin{tabular}{r|llllll}\n  & 0 & 1 & admit & gre & gpa & rank\\\\\n  & <dbl> & <dbl> & <fct> & <int> & <dbl> & <fct>\\\\\n\\hline\n\t3 & 0.1796866 & 0.8203134 & 1 & 800 & 4.00 & 1\\\\\n\t5 & 0.8895321 & 0.1104679 & 0 & 520 & 2.93 & 4\\\\\n\t6 & 0.6270414 & 0.3729586 & 1 & 760 & 3.00 & 2\\\\\n\t7 & 0.5318809 & 0.4681191 & 1 & 560 & 2.98 & 1\\\\\n\t8 & 0.8889455 & 0.1110545 & 0 & 400 & 3.08 & 2\\\\\n\t9 & 0.7995766 & 0.2004234 & 1 & 540 & 3.39 & 3\\\\\n\\end{tabular}\n",
            "text/plain": [
              "  0         1         admit gre gpa  rank\n",
              "3 0.1796866 0.8203134 1     800 4.00 1   \n",
              "5 0.8895321 0.1104679 0     520 2.93 4   \n",
              "6 0.6270414 0.3729586 1     760 3.00 2   \n",
              "7 0.5318809 0.4681191 1     560 2.98 1   \n",
              "8 0.8889455 0.1110545 0     400 3.08 2   \n",
              "9 0.7995766 0.2004234 1     540 3.39 3   "
            ]
          },
          "metadata": {}
        }
      ]
    },
    {
      "cell_type": "code",
      "source": [
        "cat(\"# Misclassification error - train data:\")\n",
        "p1 <- predict(model, within(train, rm(admit)))\n",
        "(tab1 <- table(p1, train$admit))\n",
        "1 - sum(diag(tab1))/ sum(tab1)\n",
        "\n",
        "cat(\"\\n# Misclassification error - test data\")\n",
        "p2 <- predict(model, within(test, rm(admit)))\n",
        "(tab2 <- table(p2, test$admit))\n",
        "1 - sum(diag(tab2))/ sum(tab2)"
      ],
      "metadata": {
        "colab": {
          "base_uri": "https://localhost:8080/",
          "height": 243
        },
        "id": "g9N8Tn5WJdi2",
        "outputId": "3485769a-2e7c-410e-8251-dc321efa3325"
      },
      "execution_count": null,
      "outputs": [
        {
          "output_type": "stream",
          "name": "stdout",
          "text": [
            "# Misclassification error - train data:"
          ]
        },
        {
          "output_type": "display_data",
          "data": {
            "text/plain": [
              "   \n",
              "p1    0   1\n",
              "  0 200  74\n",
              "  1  16  29"
            ]
          },
          "metadata": {}
        },
        {
          "output_type": "display_data",
          "data": {
            "text/html": [
              "0.282131661442006"
            ],
            "text/markdown": "0.282131661442006",
            "text/latex": "0.282131661442006",
            "text/plain": [
              "[1] 0.2821317"
            ]
          },
          "metadata": {}
        },
        {
          "output_type": "stream",
          "name": "stdout",
          "text": [
            "\n",
            "# Misclassification error - test data"
          ]
        },
        {
          "output_type": "display_data",
          "data": {
            "text/plain": [
              "   \n",
              "p2   0  1\n",
              "  0 52 20\n",
              "  1  5  4"
            ]
          },
          "metadata": {}
        },
        {
          "output_type": "display_data",
          "data": {
            "text/html": [
              "0.308641975308642"
            ],
            "text/markdown": "0.308641975308642",
            "text/latex": "0.308641975308642",
            "text/plain": [
              "[1] 0.308642"
            ]
          },
          "metadata": {}
        }
      ]
    },
    {
      "cell_type": "markdown",
      "source": [
        "Ошибка классификации на тестовой выборке составила 30.86%"
      ],
      "metadata": {
        "id": "hqTI-taZJooP"
      }
    },
    {
      "cell_type": "markdown",
      "source": [
        "Проверка на модели собственных данных"
      ],
      "metadata": {
        "id": "2xSsaH1mJr1U"
      }
    },
    {
      "cell_type": "code",
      "source": [
        "# конструируем аналогичный фактор  \n",
        "rank = as.factor(1:4)\n",
        "\n",
        "# новые данные из 3х элементов\n",
        "new <- data.frame(gre=c(230, 600, 800), gpa=c(2.0, 3.0, 4.0), rank=rank[c(4, 2, 1)])\n",
        "new$rank <- as.factor(new$rank)\n",
        "new$gre <- as.integer(new$gre)\n",
        "\n",
        "# метки\n",
        "p3 <- predict(model, new)\n",
        "\n",
        "cbind(admit=p3, new)"
      ],
      "metadata": {
        "colab": {
          "base_uri": "https://localhost:8080/",
          "height": 192
        },
        "id": "g99vK1oIJpPU",
        "outputId": "c4f2ab36-818a-4f35-930d-69a53663d9da"
      },
      "execution_count": null,
      "outputs": [
        {
          "output_type": "display_data",
          "data": {
            "text/html": [
              "<table class=\"dataframe\">\n",
              "<caption>A data.frame: 3 × 4</caption>\n",
              "<thead>\n",
              "\t<tr><th scope=col>admit</th><th scope=col>gre</th><th scope=col>gpa</th><th scope=col>rank</th></tr>\n",
              "\t<tr><th scope=col>&lt;fct&gt;</th><th scope=col>&lt;int&gt;</th><th scope=col>&lt;dbl&gt;</th><th scope=col>&lt;fct&gt;</th></tr>\n",
              "</thead>\n",
              "<tbody>\n",
              "\t<tr><td>0</td><td>230</td><td>2</td><td>4</td></tr>\n",
              "\t<tr><td>0</td><td>600</td><td>3</td><td>2</td></tr>\n",
              "\t<tr><td>1</td><td>800</td><td>4</td><td>1</td></tr>\n",
              "</tbody>\n",
              "</table>\n"
            ],
            "text/markdown": "\nA data.frame: 3 × 4\n\n| admit &lt;fct&gt; | gre &lt;int&gt; | gpa &lt;dbl&gt; | rank &lt;fct&gt; |\n|---|---|---|---|\n| 0 | 230 | 2 | 4 |\n| 0 | 600 | 3 | 2 |\n| 1 | 800 | 4 | 1 |\n\n",
            "text/latex": "A data.frame: 3 × 4\n\\begin{tabular}{llll}\n admit & gre & gpa & rank\\\\\n <fct> & <int> & <dbl> & <fct>\\\\\n\\hline\n\t 0 & 230 & 2 & 4\\\\\n\t 0 & 600 & 3 & 2\\\\\n\t 1 & 800 & 4 & 1\\\\\n\\end{tabular}\n",
            "text/plain": [
              "  admit gre gpa rank\n",
              "1 0     230 2   4   \n",
              "2 0     600 3   2   \n",
              "3 1     800 4   1   "
            ]
          },
          "metadata": {}
        }
      ]
    }
  ]
}