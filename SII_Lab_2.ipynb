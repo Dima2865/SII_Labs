{
  "nbformat": 4,
  "nbformat_minor": 0,
  "metadata": {
    "colab": {
      "provenance": [],
      "authorship_tag": "ABX9TyMkN2a0eLt5fubUST8RY3qK",
      "include_colab_link": true
    },
    "kernelspec": {
      "name": "ir",
      "display_name": "R"
    },
    "language_info": {
      "name": "R"
    }
  },
  "cells": [
    {
      "cell_type": "markdown",
      "metadata": {
        "id": "view-in-github",
        "colab_type": "text"
      },
      "source": [
        "<a href=\"https://colab.research.google.com/github/Dima2865/SII_Labs/blob/main/SII_Lab_2.ipynb\" target=\"_parent\"><img src=\"https://colab.research.google.com/assets/colab-badge.svg\" alt=\"Open In Colab\"/></a>"
      ]
    },
    {
      "cell_type": "code",
      "execution_count": null,
      "metadata": {
        "id": "ej5CC-acLHTp"
      },
      "outputs": [],
      "source": [
        "#кол-во записей\n",
        "N <- 100\n",
        "Nrow <- 1:N"
      ]
    },
    {
      "cell_type": "code",
      "source": [
        "#генерацияя рандомных сотрудников\n",
        "gen_name <- function(x) {\n",
        "  name_list <- c(\"Андрей\", \"Марина\", \"Сергей\", \"Иван\", \"Петр\", \"Игорь\", \"Маша\", \"Саша\")\n",
        "  surname_list<- c(\"Андреев\", \"Андреева\", \"Сорокин\", \"Поляков\", \"Григорьев\", \"Рубин\", \"Котельникова\", \"Осадчий\")\n",
        "  \n",
        "  names_len <- length(name_list)\n",
        "  \n",
        "  emp_name <- paste(\n",
        "    name_list[sample(1:names_len, 1)], \n",
        "    surname_list[sample(1:names_len, 1)]\n",
        "  )\n",
        "  emp_name\n",
        "}\n",
        "\n",
        "Name <- sapply(Nrow, gen_name)"
      ],
      "metadata": {
        "id": "Ir3nKiYZL2tw"
      },
      "execution_count": null,
      "outputs": []
    },
    {
      "cell_type": "code",
      "source": [
        "#генерация года рождения\n",
        "gen_empl_year <- function(birthday) {\n",
        "  sample((birthday + 18):2006, 1)\n",
        "}\n",
        "BirthYear <- sample(1965:1990, N, replace=T)\n",
        "\n",
        "#генерация года приема на работу\n",
        "EmployYear <- sapply(BirthYear, gen_empl_year)\n",
        "\n",
        "#генерация ЗП\n",
        "Salary <- sample(10000:30000, N, replace=T)"
      ],
      "metadata": {
        "id": "QdZde-WsM4Sq"
      },
      "execution_count": null,
      "outputs": []
    },
    {
      "cell_type": "code",
      "source": [
        "df <- data.frame(\n",
        "  Nrow=Nrow,\n",
        "  Name=Name,\n",
        "  BirthYear=BirthYear,\n",
        "  EmployYear=EmployYear,\n",
        "  Salary=Salary\n",
        ")\n",
        "\n",
        "head(df)"
      ],
      "metadata": {
        "colab": {
          "base_uri": "https://localhost:8080/",
          "height": 286
        },
        "id": "KFVSZbJ7NZD_",
        "outputId": "48c4e186-54e5-4cfe-cc16-6eb56f3c04f0"
      },
      "execution_count": null,
      "outputs": [
        {
          "output_type": "display_data",
          "data": {
            "text/html": [
              "<table class=\"dataframe\">\n",
              "<caption>A data.frame: 6 × 5</caption>\n",
              "<thead>\n",
              "\t<tr><th></th><th scope=col>Nrow</th><th scope=col>Name</th><th scope=col>BirthYear</th><th scope=col>EmployYear</th><th scope=col>Salary</th></tr>\n",
              "\t<tr><th></th><th scope=col>&lt;int&gt;</th><th scope=col>&lt;chr&gt;</th><th scope=col>&lt;int&gt;</th><th scope=col>&lt;int&gt;</th><th scope=col>&lt;int&gt;</th></tr>\n",
              "</thead>\n",
              "<tbody>\n",
              "\t<tr><th scope=row>1</th><td>1</td><td>Петр Поляков       </td><td>1976</td><td>1997</td><td>16295</td></tr>\n",
              "\t<tr><th scope=row>2</th><td>2</td><td>Марина Котельникова</td><td>1966</td><td>1995</td><td>25807</td></tr>\n",
              "\t<tr><th scope=row>3</th><td>3</td><td>Саша Сорокин       </td><td>1988</td><td>1376</td><td>19202</td></tr>\n",
              "\t<tr><th scope=row>4</th><td>4</td><td>Иван Григорьев     </td><td>1978</td><td>2002</td><td>15301</td></tr>\n",
              "\t<tr><th scope=row>5</th><td>5</td><td>Сергей Андреева    </td><td>1987</td><td>2005</td><td>14479</td></tr>\n",
              "\t<tr><th scope=row>6</th><td>6</td><td>Иван Осадчий       </td><td>1976</td><td>2001</td><td>23935</td></tr>\n",
              "</tbody>\n",
              "</table>\n"
            ],
            "text/markdown": "\nA data.frame: 6 × 5\n\n| <!--/--> | Nrow &lt;int&gt; | Name &lt;chr&gt; | BirthYear &lt;int&gt; | EmployYear &lt;int&gt; | Salary &lt;int&gt; |\n|---|---|---|---|---|---|\n| 1 | 1 | Петр Поляков        | 1976 | 1997 | 16295 |\n| 2 | 2 | Марина Котельникова | 1966 | 1995 | 25807 |\n| 3 | 3 | Саша Сорокин        | 1988 | 1376 | 19202 |\n| 4 | 4 | Иван Григорьев      | 1978 | 2002 | 15301 |\n| 5 | 5 | Сергей Андреева     | 1987 | 2005 | 14479 |\n| 6 | 6 | Иван Осадчий        | 1976 | 2001 | 23935 |\n\n",
            "text/latex": "A data.frame: 6 × 5\n\\begin{tabular}{r|lllll}\n  & Nrow & Name & BirthYear & EmployYear & Salary\\\\\n  & <int> & <chr> & <int> & <int> & <int>\\\\\n\\hline\n\t1 & 1 & Петр Поляков        & 1976 & 1997 & 16295\\\\\n\t2 & 2 & Марина Котельникова & 1966 & 1995 & 25807\\\\\n\t3 & 3 & Саша Сорокин        & 1988 & 1376 & 19202\\\\\n\t4 & 4 & Иван Григорьев      & 1978 & 2002 & 15301\\\\\n\t5 & 5 & Сергей Андреева     & 1987 & 2005 & 14479\\\\\n\t6 & 6 & Иван Осадчий        & 1976 & 2001 & 23935\\\\\n\\end{tabular}\n",
            "text/plain": [
              "  Nrow Name                BirthYear EmployYear Salary\n",
              "1 1    Петр Поляков        1976      1997       16295 \n",
              "2 2    Марина Котельникова 1966      1995       25807 \n",
              "3 3    Саша Сорокин        1988      1376       19202 \n",
              "4 4    Иван Григорьев      1978      2002       15301 \n",
              "5 5    Сергей Андреева     1987      2005       14479 \n",
              "6 6    Иван Осадчий        1976      2001       23935 "
            ]
          },
          "metadata": {}
        }
      ]
    },
    {
      "cell_type": "code",
      "source": [
        "salary_cmp_count <- nrow(df[df$Salary > 15000,])\n",
        "cat(sprintf(\"Число сотрудников с зарплатой, больше 15000: %i\", salary_cmp_count))"
      ],
      "metadata": {
        "colab": {
          "base_uri": "https://localhost:8080/"
        },
        "id": "mLRStKHnN0Z9",
        "outputId": "bb4778e2-4fb7-44dd-8d9b-4264e218ecce"
      },
      "execution_count": null,
      "outputs": [
        {
          "output_type": "stream",
          "name": "stdout",
          "text": [
            "Число сотрудников с зарплатой, больше 15000: 76"
          ]
        }
      ]
    },
    {
      "cell_type": "code",
      "source": [
        "# расчет суммарного подоходного налога за все время работы в организации\n",
        "currrent_year <- as.numeric(format(Sys.Date(), format=\"%Y\"))\n",
        "df$TotalIncomeTax <- with(df, (currrent_year - EmployYear)*Salary*0.13)\n",
        "\n",
        "# финальный результат\n",
        "head(df)"
      ],
      "metadata": {
        "colab": {
          "base_uri": "https://localhost:8080/",
          "height": 286
        },
        "id": "-NeNxdK-N7xN",
        "outputId": "b3ebfd8a-675d-4ec9-c211-fba4c37ae81e"
      },
      "execution_count": null,
      "outputs": [
        {
          "output_type": "display_data",
          "data": {
            "text/html": [
              "<table class=\"dataframe\">\n",
              "<caption>A data.frame: 6 × 6</caption>\n",
              "<thead>\n",
              "\t<tr><th></th><th scope=col>Nrow</th><th scope=col>Name</th><th scope=col>BirthYear</th><th scope=col>EmployYear</th><th scope=col>Salary</th><th scope=col>TotalIncomeTax</th></tr>\n",
              "\t<tr><th></th><th scope=col>&lt;int&gt;</th><th scope=col>&lt;chr&gt;</th><th scope=col>&lt;int&gt;</th><th scope=col>&lt;int&gt;</th><th scope=col>&lt;int&gt;</th><th scope=col>&lt;dbl&gt;</th></tr>\n",
              "</thead>\n",
              "<tbody>\n",
              "\t<tr><th scope=row>1</th><td>1</td><td>Петр Поляков       </td><td>1976</td><td>1997</td><td>16295</td><td>  52958.75</td></tr>\n",
              "\t<tr><th scope=row>2</th><td>2</td><td>Марина Котельникова</td><td>1966</td><td>1995</td><td>25807</td><td>  90582.57</td></tr>\n",
              "\t<tr><th scope=row>3</th><td>3</td><td>Саша Сорокин       </td><td>1988</td><td>1376</td><td>19202</td><td>1612583.96</td></tr>\n",
              "\t<tr><th scope=row>4</th><td>4</td><td>Иван Григорьев     </td><td>1978</td><td>2002</td><td>15301</td><td>  39782.60</td></tr>\n",
              "\t<tr><th scope=row>5</th><td>5</td><td>Сергей Андреева    </td><td>1987</td><td>2005</td><td>14479</td><td>  31998.59</td></tr>\n",
              "\t<tr><th scope=row>6</th><td>6</td><td>Иван Осадчий       </td><td>1976</td><td>2001</td><td>23935</td><td>  65342.55</td></tr>\n",
              "</tbody>\n",
              "</table>\n"
            ],
            "text/markdown": "\nA data.frame: 6 × 6\n\n| <!--/--> | Nrow &lt;int&gt; | Name &lt;chr&gt; | BirthYear &lt;int&gt; | EmployYear &lt;int&gt; | Salary &lt;int&gt; | TotalIncomeTax &lt;dbl&gt; |\n|---|---|---|---|---|---|---|\n| 1 | 1 | Петр Поляков        | 1976 | 1997 | 16295 |   52958.75 |\n| 2 | 2 | Марина Котельникова | 1966 | 1995 | 25807 |   90582.57 |\n| 3 | 3 | Саша Сорокин        | 1988 | 1376 | 19202 | 1612583.96 |\n| 4 | 4 | Иван Григорьев      | 1978 | 2002 | 15301 |   39782.60 |\n| 5 | 5 | Сергей Андреева     | 1987 | 2005 | 14479 |   31998.59 |\n| 6 | 6 | Иван Осадчий        | 1976 | 2001 | 23935 |   65342.55 |\n\n",
            "text/latex": "A data.frame: 6 × 6\n\\begin{tabular}{r|llllll}\n  & Nrow & Name & BirthYear & EmployYear & Salary & TotalIncomeTax\\\\\n  & <int> & <chr> & <int> & <int> & <int> & <dbl>\\\\\n\\hline\n\t1 & 1 & Петр Поляков        & 1976 & 1997 & 16295 &   52958.75\\\\\n\t2 & 2 & Марина Котельникова & 1966 & 1995 & 25807 &   90582.57\\\\\n\t3 & 3 & Саша Сорокин        & 1988 & 1376 & 19202 & 1612583.96\\\\\n\t4 & 4 & Иван Григорьев      & 1978 & 2002 & 15301 &   39782.60\\\\\n\t5 & 5 & Сергей Андреева     & 1987 & 2005 & 14479 &   31998.59\\\\\n\t6 & 6 & Иван Осадчий        & 1976 & 2001 & 23935 &   65342.55\\\\\n\\end{tabular}\n",
            "text/plain": [
              "  Nrow Name                BirthYear EmployYear Salary TotalIncomeTax\n",
              "1 1    Петр Поляков        1976      1997       16295    52958.75    \n",
              "2 2    Марина Котельникова 1966      1995       25807    90582.57    \n",
              "3 3    Саша Сорокин        1988      1376       19202  1612583.96    \n",
              "4 4    Иван Григорьев      1978      2002       15301    39782.60    \n",
              "5 5    Сергей Андреева     1987      2005       14479    31998.59    \n",
              "6 6    Иван Осадчий        1976      2001       23935    65342.55    "
            ]
          },
          "metadata": {}
        }
      ]
    }
  ]
}